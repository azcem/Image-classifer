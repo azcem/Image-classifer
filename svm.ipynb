{
  "cells": [
    {
      "cell_type": "markdown",
      "metadata": {
        "id": "view-in-github",
        "colab_type": "text"
      },
      "source": [
        "<a href=\"https://colab.research.google.com/github/azcem/Image-classifer/blob/main/svm.ipynb\" target=\"_parent\"><img src=\"https://colab.research.google.com/assets/colab-badge.svg\" alt=\"Open In Colab\"/></a>"
      ]
    },
    {
      "cell_type": "code",
      "execution_count": null,
      "metadata": {
        "id": "se2MUfNSdKsk"
      },
      "outputs": [],
      "source": [
        "import numpy as np\n",
        "import matplotlib.pyplot as plt\n",
        "import os\n",
        "from skimage.feature import hog\n",
        "import tensorflow as tf\n",
        "import sklearn as sk\n",
        "from sklearn.decomposition import PCA\n",
        "from sklearn.preprocessing import StandardScaler\n",
        "from skimage.color import rgb2gray"
      ]
    },
    {
      "cell_type": "code",
      "execution_count": null,
      "metadata": {
        "id": "RAMVmiQ6qf5B"
      },
      "outputs": [],
      "source": [
        "(x_train, y_train), (x_test, y_test) = tf.keras.datasets.cifar100.load_data(label_mode='fine')"
      ]
    },
    {
      "cell_type": "code",
      "source": [
        "#concatenating\n",
        "X = np.concatenate((x_train, x_test), axis=0)\n",
        "Y = np.concatenate((y_train, y_test), axis=0)"
      ],
      "metadata": {
        "id": "0zPvP7f__Yj3"
      },
      "execution_count": null,
      "outputs": []
    },
    {
      "cell_type": "code",
      "source": [
        "#turn rgb to gray\n",
        "X = rgb2gray(X)"
      ],
      "metadata": {
        "id": "e77gCqUelbsi"
      },
      "execution_count": null,
      "outputs": []
    },
    {
      "cell_type": "code",
      "execution_count": null,
      "metadata": {
        "id": "8IAKM5EsdKsv"
      },
      "outputs": [],
      "source": [
        "#hog feature extraction\n",
        "X = np.asarray([hog(img, feature_vector=True) for img in X])\n"
      ]
    },
    {
      "cell_type": "code",
      "execution_count": null,
      "metadata": {
        "id": "zJwBvVQwvPde"
      },
      "outputs": [],
      "source": [
        "#pca\n",
        "pca = PCA(0.7)\n",
        "x_pca = pca.fit_transform(X)"
      ]
    },
    {
      "cell_type": "code",
      "source": [
        "#splitting x_pca\n",
        "x_train = x_pca[0:50000]\n",
        "x_test = x_pca[49999:-1]\n",
        "y_train = Y[0:50000]\n",
        "y_test = Y[49999:-1]"
      ],
      "metadata": {
        "id": "g5BAW2owAYqO"
      },
      "execution_count": null,
      "outputs": []
    },
    {
      "cell_type": "code",
      "execution_count": null,
      "metadata": {
        "id": "4zBLd8-espGy"
      },
      "outputs": [],
      "source": [
        "#reshaping y, a shape of (m,1) doesn't work with the code below\n",
        "m_train = y_train.shape[0]\n",
        "m_test = y_test.shape[0]\n",
        "y_train.shape = m_train\n",
        "y_test.shape = m_test"
      ]
    },
    {
      "cell_type": "code",
      "execution_count": null,
      "metadata": {
        "id": "Qkab-YWsdKsy"
      },
      "outputs": [],
      "source": [
        "#initializing weights\n",
        "W = np.random.random((100, x_train.shape[1]+1)) - 0.5"
      ]
    },
    {
      "cell_type": "code",
      "source": [
        "#normalization\n",
        "scaler = StandardScaler()\n",
        "x_train = scaler.fit_transform(x_train)\n",
        "x_test = scaler.transform(x_test)"
      ],
      "metadata": {
        "id": "N5g6czpXLTYa"
      },
      "execution_count": null,
      "outputs": []
    },
    {
      "cell_type": "code",
      "source": [
        "#add bias\n",
        "x_train = np.concatenate((np.ones((x_train.shape[0],1)), x_train), axis=1)\n",
        "x_test = np.concatenate((np.ones((x_test.shape[0],1)), x_test), axis=1)"
      ],
      "metadata": {
        "id": "AKm2aDM8NlRS"
      },
      "execution_count": null,
      "outputs": []
    },
    {
      "cell_type": "code",
      "execution_count": null,
      "metadata": {
        "id": "GQMfCW-FdKs1"
      },
      "outputs": [],
      "source": [
        "def MCSVM_model(X, Y, W, k=100, epochs=20, alpha=0.2, decay=True):\n",
        "    m = X.shape[0]\n",
        "    d = X.shape[1]\n",
        "    loss = []\n",
        "    size = 32\n",
        "    learning_rate = alpha\n",
        "    for epoch in range(epochs):\n",
        "        li = 0\n",
        "        for i in range(m // size):\n",
        "            delta = np.zeros(W.shape)\n",
        "            x = X[i*size:(i+1)*size]\n",
        "            y = Y[i*size:(i+1)*size]\n",
        "            sz = x.shape[0]\n",
        "            scores = W.dot(x.T).T\n",
        "\n",
        "            length = range(sz)\n",
        "            D = 1 + scores - scores[length,y].reshape((size,1))\n",
        "            D = D * (D > 0)\n",
        "            D[length,y] = 0\n",
        "\n",
        "            li += np.sum(D) / m\n",
        "\n",
        "            for r in range(k):\n",
        "                mask = np.sum((D>0) * (r==y).reshape((size,1)) > 0, axis=1).reshape((size,1))\n",
        "\n",
        "                delta[r] += np.sum(-1 * x * mask, axis=0)\n",
        "                mask = ((D[length, r] > 0) * (r != y)).reshape((size,1))\n",
        "                delta[r] += np.sum(x * mask, axis=0)\n",
        "\n",
        "            W = W - learning_rate * delta\n",
        "        \n",
        "        loss.append(li)\n",
        "        print(f'epoch{epoch} loss is {loss[epoch]}')\n",
        "        #learning rate decay, don't go below 0.00005\n",
        "        if decay:\n",
        "            if epoch % 5 == 0:\n",
        "                learning_rate = 0.00005 + learning_rate/2\n",
        "    \n",
        "    return W, loss, learning_rate"
      ]
    },
    {
      "cell_type": "code",
      "execution_count": null,
      "metadata": {
        "colab": {
          "base_uri": "https://localhost:8080/"
        },
        "id": "RHGxJ-8hdKs3",
        "outputId": "22c13d47-0f09-463c-c7c8-e81aacef45af"
      },
      "outputs": [
        {
          "output_type": "stream",
          "name": "stdout",
          "text": [
            "epoch0 loss is 4222.053060789596\n",
            "epoch1 loss is 2415.0548562547806\n",
            "epoch2 loss is 2106.374973820936\n",
            "epoch3 loss is 2102.363349226275\n",
            "epoch4 loss is 2100.2760716393745\n",
            "epoch5 loss is 2101.1912996173837\n",
            "epoch6 loss is 1234.6933903876593\n",
            "epoch7 loss is 1076.9015453892519\n",
            "epoch8 loss is 1071.845777970813\n",
            "epoch9 loss is 1070.9240241447974\n",
            "epoch10 loss is 1070.457922047899\n",
            "epoch11 loss is 636.836559732843\n",
            "epoch12 loss is 558.3916179900378\n",
            "epoch13 loss is 556.0338271397078\n",
            "epoch14 loss is 555.3363043210617\n",
            "epoch15 loss is 555.3189652992088\n",
            "epoch16 loss is 338.04443283122833\n",
            "epoch17 loss is 299.1111278391016\n",
            "epoch18 loss is 297.8719566955233\n",
            "epoch19 loss is 297.58109124623167\n",
            "epoch20 loss is 297.4252289249258\n",
            "epoch21 loss is 188.62475058898573\n",
            "epoch22 loss is 169.2966511192161\n",
            "epoch23 loss is 168.6546671234913\n",
            "epoch24 loss is 168.4847167752788\n",
            "epoch25 loss is 168.4625455878431\n",
            "epoch26 loss is 113.8636483242757\n",
            "epoch27 loss is 104.42727604252376\n",
            "epoch28 loss is 104.07674012267005\n",
            "epoch29 loss is 103.99805338497808\n",
            "epoch30 loss is 103.93938976708122\n",
            "epoch31 loss is 76.55391304825912\n",
            "epoch32 loss is 71.85423758729064\n",
            "epoch33 loss is 71.698471914761\n",
            "epoch34 loss is 71.65728825451826\n",
            "epoch35 loss is 71.65323589397403\n",
            "epoch36 loss is 57.910772942867226\n",
            "epoch37 loss is 55.584021199022075\n",
            "epoch38 loss is 55.50490802570658\n",
            "epoch39 loss is 55.48272882738028\n",
            "epoch40 loss is 55.476230467560775\n",
            "epoch41 loss is 48.56882079645002\n",
            "epoch42 loss is 47.37834938592479\n",
            "epoch43 loss is 47.327796091559854\n",
            "epoch44 loss is 47.314943118084535\n",
            "epoch45 loss is 47.31083842567031\n",
            "epoch46 loss is 43.82932568077489\n",
            "epoch47 loss is 43.19890265759322\n",
            "epoch48 loss is 43.17503571472887\n",
            "epoch49 loss is 43.167917307653475\n",
            "epoch50 loss is 43.168452811728464\n",
            "epoch51 loss is 41.37094827491053\n",
            "epoch52 loss is 41.02836251822532\n",
            "epoch53 loss is 41.01527072731816\n",
            "epoch54 loss is 41.0124923851794\n",
            "epoch55 loss is 41.012751190584716\n",
            "epoch56 loss is 40.062716002631554\n",
            "epoch57 loss is 39.87869318158002\n",
            "epoch58 loss is 39.867861248633446\n",
            "epoch59 loss is 39.86752833734936\n",
            "epoch60 loss is 39.86760930439254\n",
            "epoch61 loss is 39.3656901534502\n",
            "epoch62 loss is 39.270794945749614\n",
            "epoch63 loss is 39.26561207494755\n",
            "epoch64 loss is 39.264590258195085\n",
            "epoch65 loss is 39.265097965291844\n",
            "epoch66 loss is 39.00235533513649\n",
            "epoch67 loss is 38.954414506373745\n",
            "epoch68 loss is 38.9507729850253\n",
            "epoch69 loss is 38.9504777738923\n",
            "epoch70 loss is 38.95030648452275\n",
            "epoch71 loss is 38.816846208963796\n",
            "epoch72 loss is 38.79182006529981\n",
            "epoch73 loss is 38.790548366651336\n",
            "epoch74 loss is 38.79062781367209\n",
            "epoch75 loss is 38.7903597551096\n",
            "epoch76 loss is 38.72332409514584\n",
            "epoch77 loss is 38.71171722586762\n",
            "epoch78 loss is 38.71096421589181\n",
            "epoch79 loss is 38.71016423791972\n",
            "epoch80 loss is 38.7100131663074\n",
            "epoch81 loss is 38.67692865138315\n",
            "epoch82 loss is 38.67051111431516\n",
            "epoch83 loss is 38.67000220735489\n",
            "epoch84 loss is 38.66993391036803\n",
            "epoch85 loss is 38.66929272664365\n",
            "epoch86 loss is 38.653130862552224\n",
            "epoch87 loss is 38.64963736609576\n",
            "epoch88 loss is 38.64983205714034\n",
            "epoch89 loss is 38.649379024561085\n",
            "epoch90 loss is 38.64894223459505\n",
            "epoch91 loss is 38.641296555505335\n",
            "epoch92 loss is 38.639846714244214\n",
            "epoch93 loss is 38.639674738038345\n",
            "epoch94 loss is 38.63951375198496\n",
            "epoch95 loss is 38.639327471404236\n",
            "epoch96 loss is 38.63529821777928\n",
            "epoch97 loss is 38.63412042269206\n",
            "epoch98 loss is 38.63461336849861\n",
            "epoch99 loss is 38.63459032050895\n"
          ]
        }
      ],
      "source": [
        "W, loss, learning_rate = MCSVM_model(x_train, y_train, W, epochs=100)"
      ]
    },
    {
      "cell_type": "code",
      "execution_count": null,
      "metadata": {
        "colab": {
          "base_uri": "https://localhost:8080/",
          "height": 295
        },
        "id": "dmBoG-MDdKs6",
        "outputId": "05312529-73d8-4e9d-abb9-90f913fe78f8"
      },
      "outputs": [
        {
          "output_type": "display_data",
          "data": {
            "image/png": "[encoded data removed]",
            "text/plain": [
              "<Figure size 432x288 with 1 Axes>"
            ]
          },
          "metadata": {
            "needs_background": "light"
          }
        }
      ],
      "source": [
        "plt.plot(loss)\n",
        "plt.ylabel('Loss')\n",
        "plt.xlabel('epochs')\n",
        "plt.title('MCSVM learning curve')\n",
        "plt.savefig('MCSVM.png')"
      ]
    },
    {
      "cell_type": "code",
      "execution_count": null,
      "metadata": {
        "id": "YSwEPEaidKs6"
      },
      "outputs": [],
      "source": [
        "def eval(x, w):\n",
        "    scores = w.dot(x.T)\n",
        "    return np.argmax(scores, axis=0)"
      ]
    },
    {
      "cell_type": "code",
      "execution_count": null,
      "metadata": {
        "id": "1-OU5x2WdKs6"
      },
      "outputs": [],
      "source": [
        "def get_accuracy(x_test, y_test, w):\n",
        "    pred = eval(x_test, w)\n",
        "    return np.mean(pred == y_test)"
      ]
    },
    {
      "cell_type": "code",
      "execution_count": null,
      "metadata": {
        "colab": {
          "base_uri": "https://localhost:8080/"
        },
        "id": "afoEezAydKs7",
        "outputId": "e76c4d8e-0462-4a99-ffe3-bd7ec70f5c41"
      },
      "outputs": [
        {
          "output_type": "execute_result",
          "data": {
            "text/plain": [
              "0.1528"
            ]
          },
          "metadata": {},
          "execution_count": 76
        }
      ],
      "source": [
        "get_accuracy(x_test, y_test, W)"
      ]
    }
  ],
  "metadata": {
    "colab": {
      "collapsed_sections": [],
      "name": "svm.ipynb",
      "provenance": [],
      "include_colab_link": true
    },
    "kernelspec": {
      "display_name": "Python 3.9.7 64-bit ('base': conda)",
      "language": "python",
      "name": "python397jvsc74a57bd0dea9281c6541cd6e6e8015e5fbd0dab6ecf2c70a713fb8c33a69c464c552ed3f"
    },
    "language_info": {
      "codemirror_mode": {
        "name": "ipython",
        "version": 3
      },
      "file_extension": ".py",
      "mimetype": "text/x-python",
      "name": "python",
      "nbconvert_exporter": "python",
      "pygments_lexer": "ipython3",
      "version": "3.9.7"
    }
  },
  "nbformat": 4,
  "nbformat_minor": 0
}