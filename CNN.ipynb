{
  "cells": [
    {
      "cell_type": "markdown",
      "metadata": {
        "id": "view-in-github",
        "colab_type": "text"
      },
      "source": [
        "<a href=\"https://colab.research.google.com/github/azcem/Image-classifer/blob/main/CNN.ipynb\" target=\"_parent\"><img src=\"https://colab.research.google.com/assets/colab-badge.svg\" alt=\"Open In Colab\"/></a>"
      ]
    },
    {
      "cell_type": "code",
      "source": [
        "%tensorflow_version 2.x\n",
        "import tensorflow as tf\n",
        "device_name = tf.test.gpu_device_name()\n",
        "if device_name != '/device:GPU:0':\n",
        "  raise SystemError('GPU device not found')\n",
        "print('Found GPU at: {}'.format(device_name))"
      ],
      "metadata": {
        "colab": {
          "base_uri": "https://localhost:8080/"
        },
        "id": "pfbxz0PvAhw1",
        "outputId": "82d0eb00-cd0c-412b-d608-ba642eb0d705"
      },
      "execution_count": 1,
      "outputs": [
        {
          "output_type": "stream",
          "name": "stdout",
          "text": [
            "Found GPU at: /device:GPU:0\n"
          ]
        }
      ]
    },
    {
      "cell_type": "code",
      "execution_count": 2,
      "metadata": {
        "id": "se2MUfNSdKsk"
      },
      "outputs": [],
      "source": [
        "import numpy as np\n",
        "import matplotlib.pyplot as plt\n",
        "import os\n",
        "from skimage.feature import hog\n",
        "import tensorflow as tf\n",
        "import sklearn as sk\n",
        "from sklearn.decomposition import PCA\n",
        "from sklearn.preprocessing import StandardScaler\n",
        "from skimage.color import rgb2gray"
      ]
    },
    {
      "cell_type": "code",
      "execution_count": 3,
      "metadata": {
        "id": "RAMVmiQ6qf5B"
      },
      "outputs": [],
      "source": [
        "(x_train, y_train), (x_test, y_test) = tf.keras.datasets.cifar100.load_data(label_mode='fine')"
      ]
    },
    {
      "cell_type": "code",
      "source": [
        "x_train, x_test = x_train / 255.0, x_test / 255.0"
      ],
      "metadata": {
        "id": "lLWOC8ODxxNg"
      },
      "execution_count": 4,
      "outputs": []
    },
    {
      "cell_type": "code",
      "source": [
        "x_train = tf.convert_to_tensor(x_train, dtype=tf.float64)\n",
        "x_test = tf.convert_to_tensor(x_test, dtype=tf.float64)\n",
        "y_train = tf.convert_to_tensor(y_train)\n",
        "y_test = tf.convert_to_tensor(y_test)"
      ],
      "metadata": {
        "id": "dNcaHVG4AJvs"
      },
      "execution_count": 5,
      "outputs": []
    },
    {
      "cell_type": "code",
      "source": [
        "#regularizer\n",
        "dropout = tf.keras.layers.Dropout(0.7)"
      ],
      "metadata": {
        "id": "6aJ0RCqB0AUo"
      },
      "execution_count": 37,
      "outputs": []
    },
    {
      "cell_type": "code",
      "source": [
        "model = tf.keras.models.Sequential([\n",
        "                                    tf.keras.layers.BatchNormalization(),\n",
        "                                    tf.keras.layers.Conv2D(32, (3,3), activation='relu', input_shape=(32,32,3)),\n",
        "                                    tf.keras.layers.MaxPool2D((2,2)),\n",
        "                                    tf.keras.layers.Conv2D(64, (3,3), activation='relu'),\n",
        "                                    tf.keras.layers.MaxPool2D((2,2)),\n",
        "                                    tf.keras.layers.Conv2D(64, (3,3), activation='relu'),\n",
        "                                    dropout,\n",
        "                                    tf.keras.layers.Flatten(),\n",
        "                                    tf.keras.layers.Dense(128, activation='relu'),\n",
        "                                    dropout,\n",
        "                                    tf.keras.layers.Dense(100, activation='softmax'),\n",
        "]\n",
        ")"
      ],
      "metadata": {
        "id": "7KnNMS4Eu7_P"
      },
      "execution_count": 38,
      "outputs": []
    },
    {
      "cell_type": "code",
      "source": [
        "model.summary()"
      ],
      "metadata": {
        "id": "a-9F6YF4wd15",
        "colab": {
          "base_uri": "https://localhost:8080/",
          "height": 288
        },
        "outputId": "f6176f58-fdcd-4989-91f9-ff71f0dd2c24"
      },
      "execution_count": 10,
      "outputs": [
        {
          "output_type": "error",
          "ename": "ValueError",
          "evalue": "ignored",
          "traceback": [
            "\u001b[0;31m---------------------------------------------------------------------------\u001b[0m",
            "\u001b[0;31mValueError\u001b[0m                                Traceback (most recent call last)",
            "\u001b[0;32m<ipython-input-10-5f15418b3570>\u001b[0m in \u001b[0;36m<module>\u001b[0;34m()\u001b[0m\n\u001b[0;32m----> 1\u001b[0;31m \u001b[0mmodel\u001b[0m\u001b[0;34m.\u001b[0m\u001b[0msummary\u001b[0m\u001b[0;34m(\u001b[0m\u001b[0;34m)\u001b[0m\u001b[0;34m\u001b[0m\u001b[0;34m\u001b[0m\u001b[0m\n\u001b[0m",
            "\u001b[0;32m/usr/local/lib/python3.7/dist-packages/keras/engine/training.py\u001b[0m in \u001b[0;36msummary\u001b[0;34m(self, line_length, positions, print_fn, expand_nested, show_trainable)\u001b[0m\n\u001b[1;32m   2774\u001b[0m     \u001b[0;32mif\u001b[0m \u001b[0;32mnot\u001b[0m \u001b[0mself\u001b[0m\u001b[0;34m.\u001b[0m\u001b[0mbuilt\u001b[0m\u001b[0;34m:\u001b[0m\u001b[0;34m\u001b[0m\u001b[0;34m\u001b[0m\u001b[0m\n\u001b[1;32m   2775\u001b[0m       raise ValueError(\n\u001b[0;32m-> 2776\u001b[0;31m           \u001b[0;34m'This model has not yet been built. '\u001b[0m\u001b[0;34m\u001b[0m\u001b[0;34m\u001b[0m\u001b[0m\n\u001b[0m\u001b[1;32m   2777\u001b[0m           \u001b[0;34m'Build the model first by calling `build()` or by calling '\u001b[0m\u001b[0;34m\u001b[0m\u001b[0;34m\u001b[0m\u001b[0m\n\u001b[1;32m   2778\u001b[0m           'the model on a batch of data.')\n",
            "\u001b[0;31mValueError\u001b[0m: This model has not yet been built. Build the model first by calling `build()` or by calling the model on a batch of data."
          ]
        }
      ]
    },
    {
      "cell_type": "code",
      "source": [
        "loss_fn = tf.keras.losses.SparseCategoricalCrossentropy()"
      ],
      "metadata": {
        "id": "GcH6ZGy-vbYz"
      },
      "execution_count": 39,
      "outputs": []
    },
    {
      "cell_type": "code",
      "source": [
        "model.compile(optimizer='adam',\n",
        "              loss=loss_fn,\n",
        "              metrics=['accuracy'])"
      ],
      "metadata": {
        "id": "bE4JDsRFvxRB"
      },
      "execution_count": 40,
      "outputs": []
    },
    {
      "cell_type": "code",
      "source": [
        "history = model.fit(x_train, y_train, epochs=100, validation_data=(x_test, y_test))"
      ],
      "metadata": {
        "colab": {
          "base_uri": "https://localhost:8080/"
        },
        "id": "s77Ny0S4v7EQ",
        "outputId": "eb38f56c-05d7-4bae-f623-5bad82ec9413"
      },
      "execution_count": 41,
      "outputs": [
        {
          "output_type": "stream",
          "name": "stdout",
          "text": [
            "Epoch 1/100\n",
            "1563/1563 [==============================] - 15s 9ms/step - loss: 4.0032 - accuracy: 0.0895 - val_loss: 3.4990 - val_accuracy: 0.1718\n",
            "Epoch 2/100\n",
            "1563/1563 [==============================] - 14s 9ms/step - loss: 3.4531 - accuracy: 0.1726 - val_loss: 3.0782 - val_accuracy: 0.2471\n",
            "Epoch 3/100\n",
            "1563/1563 [==============================] - 14s 9ms/step - loss: 3.1804 - accuracy: 0.2196 - val_loss: 2.8653 - val_accuracy: 0.2798\n",
            "Epoch 4/100\n",
            "1563/1563 [==============================] - 15s 9ms/step - loss: 3.0097 - accuracy: 0.2505 - val_loss: 2.7318 - val_accuracy: 0.3136\n",
            "Epoch 5/100\n",
            "1563/1563 [==============================] - 14s 9ms/step - loss: 2.8972 - accuracy: 0.2717 - val_loss: 2.6407 - val_accuracy: 0.3253\n",
            "Epoch 6/100\n",
            "1563/1563 [==============================] - 15s 9ms/step - loss: 2.8073 - accuracy: 0.2901 - val_loss: 2.5595 - val_accuracy: 0.3397\n",
            "Epoch 7/100\n",
            "1563/1563 [==============================] - 15s 9ms/step - loss: 2.7508 - accuracy: 0.2991 - val_loss: 2.5417 - val_accuracy: 0.3495\n",
            "Epoch 8/100\n",
            "1563/1563 [==============================] - 14s 9ms/step - loss: 2.6841 - accuracy: 0.3119 - val_loss: 2.4788 - val_accuracy: 0.3587\n",
            "Epoch 9/100\n",
            "1563/1563 [==============================] - 14s 9ms/step - loss: 2.6464 - accuracy: 0.3222 - val_loss: 2.4549 - val_accuracy: 0.3649\n",
            "Epoch 10/100\n",
            "1563/1563 [==============================] - 14s 9ms/step - loss: 2.6149 - accuracy: 0.3286 - val_loss: 2.4331 - val_accuracy: 0.3728\n",
            "Epoch 11/100\n",
            "1563/1563 [==============================] - 14s 9ms/step - loss: 2.5715 - accuracy: 0.3351 - val_loss: 2.4067 - val_accuracy: 0.3770\n",
            "Epoch 12/100\n",
            "1563/1563 [==============================] - 14s 9ms/step - loss: 2.5387 - accuracy: 0.3418 - val_loss: 2.3719 - val_accuracy: 0.3856\n",
            "Epoch 13/100\n",
            "1563/1563 [==============================] - 14s 9ms/step - loss: 2.5154 - accuracy: 0.3465 - val_loss: 2.3377 - val_accuracy: 0.3956\n",
            "Epoch 14/100\n",
            "1563/1563 [==============================] - 14s 9ms/step - loss: 2.4856 - accuracy: 0.3536 - val_loss: 2.3563 - val_accuracy: 0.3851\n",
            "Epoch 15/100\n",
            "1563/1563 [==============================] - 14s 9ms/step - loss: 2.4577 - accuracy: 0.3603 - val_loss: 2.3031 - val_accuracy: 0.4019\n",
            "Epoch 16/100\n",
            "1563/1563 [==============================] - 14s 9ms/step - loss: 2.4496 - accuracy: 0.3600 - val_loss: 2.2854 - val_accuracy: 0.4054\n",
            "Epoch 17/100\n",
            "1563/1563 [==============================] - 14s 9ms/step - loss: 2.4127 - accuracy: 0.3683 - val_loss: 2.2879 - val_accuracy: 0.4035\n",
            "Epoch 18/100\n",
            "1563/1563 [==============================] - 15s 9ms/step - loss: 2.3966 - accuracy: 0.3728 - val_loss: 2.2513 - val_accuracy: 0.4110\n",
            "Epoch 19/100\n",
            "1563/1563 [==============================] - 15s 9ms/step - loss: 2.3842 - accuracy: 0.3727 - val_loss: 2.2678 - val_accuracy: 0.4091\n",
            "Epoch 20/100\n",
            "1563/1563 [==============================] - 15s 10ms/step - loss: 2.3594 - accuracy: 0.3792 - val_loss: 2.2766 - val_accuracy: 0.4077\n",
            "Epoch 21/100\n",
            "1563/1563 [==============================] - 14s 9ms/step - loss: 2.3509 - accuracy: 0.3799 - val_loss: 2.2646 - val_accuracy: 0.4112\n",
            "Epoch 22/100\n",
            "1563/1563 [==============================] - 14s 9ms/step - loss: 2.3273 - accuracy: 0.3836 - val_loss: 2.2391 - val_accuracy: 0.4170\n",
            "Epoch 23/100\n",
            "1563/1563 [==============================] - 16s 10ms/step - loss: 2.3090 - accuracy: 0.3893 - val_loss: 2.2207 - val_accuracy: 0.4173\n",
            "Epoch 24/100\n",
            "1563/1563 [==============================] - 14s 9ms/step - loss: 2.3042 - accuracy: 0.3913 - val_loss: 2.2207 - val_accuracy: 0.4224\n",
            "Epoch 25/100\n",
            "1563/1563 [==============================] - 14s 9ms/step - loss: 2.2865 - accuracy: 0.3940 - val_loss: 2.1974 - val_accuracy: 0.4239\n",
            "Epoch 26/100\n",
            "1563/1563 [==============================] - 14s 9ms/step - loss: 2.2780 - accuracy: 0.3950 - val_loss: 2.2335 - val_accuracy: 0.4126\n",
            "Epoch 27/100\n",
            "1563/1563 [==============================] - 14s 9ms/step - loss: 2.2718 - accuracy: 0.3971 - val_loss: 2.1970 - val_accuracy: 0.4228\n",
            "Epoch 28/100\n",
            "1563/1563 [==============================] - 15s 9ms/step - loss: 2.2460 - accuracy: 0.4016 - val_loss: 2.2191 - val_accuracy: 0.4183\n",
            "Epoch 29/100\n",
            "1563/1563 [==============================] - 15s 9ms/step - loss: 2.2452 - accuracy: 0.4039 - val_loss: 2.1866 - val_accuracy: 0.4254\n",
            "Epoch 30/100\n",
            "1563/1563 [==============================] - 15s 9ms/step - loss: 2.2344 - accuracy: 0.4033 - val_loss: 2.2037 - val_accuracy: 0.4237\n",
            "Epoch 31/100\n",
            "1563/1563 [==============================] - 14s 9ms/step - loss: 2.2251 - accuracy: 0.4065 - val_loss: 2.1525 - val_accuracy: 0.4365\n",
            "Epoch 32/100\n",
            "1563/1563 [==============================] - 15s 9ms/step - loss: 2.2161 - accuracy: 0.4097 - val_loss: 2.1635 - val_accuracy: 0.4321\n",
            "Epoch 33/100\n",
            "1563/1563 [==============================] - 14s 9ms/step - loss: 2.2115 - accuracy: 0.4086 - val_loss: 2.2103 - val_accuracy: 0.4230\n",
            "Epoch 34/100\n",
            "1563/1563 [==============================] - 14s 9ms/step - loss: 2.2015 - accuracy: 0.4121 - val_loss: 2.1520 - val_accuracy: 0.4317\n",
            "Epoch 35/100\n",
            "1563/1563 [==============================] - 14s 9ms/step - loss: 2.1988 - accuracy: 0.4122 - val_loss: 2.1360 - val_accuracy: 0.4368\n",
            "Epoch 36/100\n",
            "1563/1563 [==============================] - 14s 9ms/step - loss: 2.1825 - accuracy: 0.4117 - val_loss: 2.1234 - val_accuracy: 0.4407\n",
            "Epoch 37/100\n",
            "1563/1563 [==============================] - 14s 9ms/step - loss: 2.1802 - accuracy: 0.4165 - val_loss: 2.1212 - val_accuracy: 0.4448\n",
            "Epoch 38/100\n",
            "1563/1563 [==============================] - 14s 9ms/step - loss: 2.1707 - accuracy: 0.4181 - val_loss: 2.1672 - val_accuracy: 0.4294\n",
            "Epoch 39/100\n",
            "1563/1563 [==============================] - 14s 9ms/step - loss: 2.1715 - accuracy: 0.4197 - val_loss: 2.1551 - val_accuracy: 0.4326\n",
            "Epoch 40/100\n",
            "1563/1563 [==============================] - 14s 9ms/step - loss: 2.1710 - accuracy: 0.4172 - val_loss: 2.1484 - val_accuracy: 0.4343\n",
            "Epoch 41/100\n",
            "1563/1563 [==============================] - 14s 9ms/step - loss: 2.1630 - accuracy: 0.4218 - val_loss: 2.1140 - val_accuracy: 0.4470\n",
            "Epoch 42/100\n",
            "1563/1563 [==============================] - 14s 9ms/step - loss: 2.1528 - accuracy: 0.4230 - val_loss: 2.1441 - val_accuracy: 0.4378\n",
            "Epoch 43/100\n",
            "1563/1563 [==============================] - 15s 9ms/step - loss: 2.1447 - accuracy: 0.4219 - val_loss: 2.1070 - val_accuracy: 0.4428\n",
            "Epoch 44/100\n",
            "1563/1563 [==============================] - 14s 9ms/step - loss: 2.1431 - accuracy: 0.4246 - val_loss: 2.1281 - val_accuracy: 0.4380\n",
            "Epoch 45/100\n",
            "1563/1563 [==============================] - 14s 9ms/step - loss: 2.1318 - accuracy: 0.4267 - val_loss: 2.1355 - val_accuracy: 0.4423\n",
            "Epoch 46/100\n",
            "1563/1563 [==============================] - 14s 9ms/step - loss: 2.1331 - accuracy: 0.4248 - val_loss: 2.1259 - val_accuracy: 0.4404\n",
            "Epoch 47/100\n",
            "1563/1563 [==============================] - 14s 9ms/step - loss: 2.1302 - accuracy: 0.4272 - val_loss: 2.1059 - val_accuracy: 0.4441\n",
            "Epoch 48/100\n",
            "1563/1563 [==============================] - 15s 10ms/step - loss: 2.1322 - accuracy: 0.4270 - val_loss: 2.1401 - val_accuracy: 0.4376\n",
            "Epoch 49/100\n",
            "1563/1563 [==============================] - 15s 10ms/step - loss: 2.1278 - accuracy: 0.4272 - val_loss: 2.1300 - val_accuracy: 0.4392\n",
            "Epoch 50/100\n",
            "1563/1563 [==============================] - 15s 10ms/step - loss: 2.1215 - accuracy: 0.4264 - val_loss: 2.1391 - val_accuracy: 0.4350\n",
            "Epoch 51/100\n",
            "1563/1563 [==============================] - 15s 10ms/step - loss: 2.1151 - accuracy: 0.4266 - val_loss: 2.0989 - val_accuracy: 0.4436\n",
            "Epoch 52/100\n",
            "1563/1563 [==============================] - 15s 10ms/step - loss: 2.1099 - accuracy: 0.4295 - val_loss: 2.1294 - val_accuracy: 0.4424\n",
            "Epoch 53/100\n",
            "1563/1563 [==============================] - 14s 9ms/step - loss: 2.1032 - accuracy: 0.4296 - val_loss: 2.1005 - val_accuracy: 0.4410\n",
            "Epoch 54/100\n",
            "1563/1563 [==============================] - 15s 9ms/step - loss: 2.1079 - accuracy: 0.4297 - val_loss: 2.1221 - val_accuracy: 0.4413\n",
            "Epoch 55/100\n",
            "1563/1563 [==============================] - 14s 9ms/step - loss: 2.1030 - accuracy: 0.4318 - val_loss: 2.1219 - val_accuracy: 0.4397\n",
            "Epoch 56/100\n",
            "1563/1563 [==============================] - 14s 9ms/step - loss: 2.1047 - accuracy: 0.4312 - val_loss: 2.0885 - val_accuracy: 0.4494\n",
            "Epoch 57/100\n",
            "1563/1563 [==============================] - 14s 9ms/step - loss: 2.0998 - accuracy: 0.4323 - val_loss: 2.1484 - val_accuracy: 0.4337\n",
            "Epoch 58/100\n",
            "1563/1563 [==============================] - 14s 9ms/step - loss: 2.0924 - accuracy: 0.4358 - val_loss: 2.1017 - val_accuracy: 0.4456\n",
            "Epoch 59/100\n",
            "1563/1563 [==============================] - 14s 9ms/step - loss: 2.0900 - accuracy: 0.4350 - val_loss: 2.0811 - val_accuracy: 0.4520\n",
            "Epoch 60/100\n",
            "1563/1563 [==============================] - 15s 10ms/step - loss: 2.0983 - accuracy: 0.4328 - val_loss: 2.0872 - val_accuracy: 0.4458\n",
            "Epoch 61/100\n",
            "1563/1563 [==============================] - 15s 10ms/step - loss: 2.0888 - accuracy: 0.4343 - val_loss: 2.1415 - val_accuracy: 0.4349\n",
            "Epoch 62/100\n",
            "1563/1563 [==============================] - 15s 10ms/step - loss: 2.0873 - accuracy: 0.4373 - val_loss: 2.1069 - val_accuracy: 0.4492\n",
            "Epoch 63/100\n",
            "1563/1563 [==============================] - 17s 11ms/step - loss: 2.0855 - accuracy: 0.4363 - val_loss: 2.1536 - val_accuracy: 0.4327\n",
            "Epoch 64/100\n",
            "1563/1563 [==============================] - 15s 10ms/step - loss: 2.0696 - accuracy: 0.4379 - val_loss: 2.0980 - val_accuracy: 0.4472\n",
            "Epoch 65/100\n",
            "1563/1563 [==============================] - 14s 9ms/step - loss: 2.0766 - accuracy: 0.4386 - val_loss: 2.1210 - val_accuracy: 0.4424\n",
            "Epoch 66/100\n",
            "1563/1563 [==============================] - 15s 9ms/step - loss: 2.0809 - accuracy: 0.4374 - val_loss: 2.1047 - val_accuracy: 0.4467\n",
            "Epoch 67/100\n",
            "1563/1563 [==============================] - 15s 10ms/step - loss: 2.0813 - accuracy: 0.4354 - val_loss: 2.0845 - val_accuracy: 0.4558\n",
            "Epoch 68/100\n",
            "1563/1563 [==============================] - 15s 10ms/step - loss: 2.0636 - accuracy: 0.4375 - val_loss: 2.0961 - val_accuracy: 0.4438\n",
            "Epoch 69/100\n",
            "1563/1563 [==============================] - 15s 10ms/step - loss: 2.0633 - accuracy: 0.4411 - val_loss: 2.1090 - val_accuracy: 0.4443\n",
            "Epoch 70/100\n",
            "1563/1563 [==============================] - 15s 10ms/step - loss: 2.0596 - accuracy: 0.4424 - val_loss: 2.1142 - val_accuracy: 0.4421\n",
            "Epoch 71/100\n",
            "1563/1563 [==============================] - 15s 10ms/step - loss: 2.0738 - accuracy: 0.4402 - val_loss: 2.1025 - val_accuracy: 0.4495\n",
            "Epoch 72/100\n",
            "1563/1563 [==============================] - 14s 9ms/step - loss: 2.0573 - accuracy: 0.4447 - val_loss: 2.1106 - val_accuracy: 0.4435\n",
            "Epoch 73/100\n",
            "1563/1563 [==============================] - 15s 9ms/step - loss: 2.0650 - accuracy: 0.4411 - val_loss: 2.1230 - val_accuracy: 0.4432\n",
            "Epoch 74/100\n",
            "1563/1563 [==============================] - 14s 9ms/step - loss: 2.0598 - accuracy: 0.4414 - val_loss: 2.0916 - val_accuracy: 0.4475\n",
            "Epoch 75/100\n",
            "1563/1563 [==============================] - 14s 9ms/step - loss: 2.0662 - accuracy: 0.4403 - val_loss: 2.1764 - val_accuracy: 0.4318\n",
            "Epoch 76/100\n",
            "1563/1563 [==============================] - 15s 9ms/step - loss: 2.0661 - accuracy: 0.4390 - val_loss: 2.0869 - val_accuracy: 0.4506\n",
            "Epoch 77/100\n",
            "1563/1563 [==============================] - 15s 10ms/step - loss: 2.0511 - accuracy: 0.4427 - val_loss: 2.0977 - val_accuracy: 0.4448\n",
            "Epoch 78/100\n",
            "1563/1563 [==============================] - 15s 10ms/step - loss: 2.0432 - accuracy: 0.4419 - val_loss: 2.0963 - val_accuracy: 0.4447\n",
            "Epoch 79/100\n",
            "1563/1563 [==============================] - 15s 10ms/step - loss: 2.0564 - accuracy: 0.4432 - val_loss: 2.0969 - val_accuracy: 0.4514\n",
            "Epoch 80/100\n",
            "1563/1563 [==============================] - 15s 10ms/step - loss: 2.0468 - accuracy: 0.4459 - val_loss: 2.0978 - val_accuracy: 0.4470\n",
            "Epoch 81/100\n",
            "1563/1563 [==============================] - 15s 10ms/step - loss: 2.0488 - accuracy: 0.4434 - val_loss: 2.1338 - val_accuracy: 0.4376\n",
            "Epoch 82/100\n",
            "1563/1563 [==============================] - 15s 10ms/step - loss: 2.0469 - accuracy: 0.4448 - val_loss: 2.0794 - val_accuracy: 0.4464\n",
            "Epoch 83/100\n",
            "1563/1563 [==============================] - 15s 10ms/step - loss: 2.0406 - accuracy: 0.4464 - val_loss: 2.1017 - val_accuracy: 0.4487\n",
            "Epoch 84/100\n",
            "1563/1563 [==============================] - 15s 10ms/step - loss: 2.0511 - accuracy: 0.4433 - val_loss: 2.0812 - val_accuracy: 0.4487\n",
            "Epoch 85/100\n",
            "1563/1563 [==============================] - 15s 10ms/step - loss: 2.0488 - accuracy: 0.4460 - val_loss: 2.1008 - val_accuracy: 0.4463\n",
            "Epoch 86/100\n",
            "1563/1563 [==============================] - 15s 9ms/step - loss: 2.0467 - accuracy: 0.4433 - val_loss: 2.0879 - val_accuracy: 0.4529\n",
            "Epoch 87/100\n",
            "1563/1563 [==============================] - 15s 10ms/step - loss: 2.0426 - accuracy: 0.4440 - val_loss: 2.0965 - val_accuracy: 0.4435\n",
            "Epoch 88/100\n",
            "1563/1563 [==============================] - 14s 9ms/step - loss: 2.0398 - accuracy: 0.4458 - val_loss: 2.0911 - val_accuracy: 0.4494\n",
            "Epoch 89/100\n",
            "1563/1563 [==============================] - 15s 10ms/step - loss: 2.0450 - accuracy: 0.4457 - val_loss: 2.0829 - val_accuracy: 0.4542\n",
            "Epoch 90/100\n",
            "1563/1563 [==============================] - 15s 10ms/step - loss: 2.0321 - accuracy: 0.4477 - val_loss: 2.1277 - val_accuracy: 0.4389\n",
            "Epoch 91/100\n",
            "1563/1563 [==============================] - 15s 10ms/step - loss: 2.0357 - accuracy: 0.4484 - val_loss: 2.1060 - val_accuracy: 0.4472\n",
            "Epoch 92/100\n",
            "1563/1563 [==============================] - 15s 10ms/step - loss: 2.0408 - accuracy: 0.4439 - val_loss: 2.1080 - val_accuracy: 0.4441\n",
            "Epoch 93/100\n",
            "1563/1563 [==============================] - 15s 10ms/step - loss: 2.0324 - accuracy: 0.4465 - val_loss: 2.1057 - val_accuracy: 0.4455\n",
            "Epoch 94/100\n",
            "1563/1563 [==============================] - 15s 9ms/step - loss: 2.0325 - accuracy: 0.4474 - val_loss: 2.1084 - val_accuracy: 0.4464\n",
            "Epoch 95/100\n",
            "1563/1563 [==============================] - 15s 9ms/step - loss: 2.0268 - accuracy: 0.4489 - val_loss: 2.0994 - val_accuracy: 0.4507\n",
            "Epoch 96/100\n",
            "1563/1563 [==============================] - 15s 10ms/step - loss: 2.0315 - accuracy: 0.4460 - val_loss: 2.1135 - val_accuracy: 0.4422\n",
            "Epoch 97/100\n",
            "1563/1563 [==============================] - 15s 10ms/step - loss: 2.0270 - accuracy: 0.4496 - val_loss: 2.0912 - val_accuracy: 0.4480\n",
            "Epoch 98/100\n",
            "1563/1563 [==============================] - 15s 10ms/step - loss: 2.0281 - accuracy: 0.4473 - val_loss: 2.1042 - val_accuracy: 0.4450\n",
            "Epoch 99/100\n",
            "1563/1563 [==============================] - 15s 9ms/step - loss: 2.0214 - accuracy: 0.4498 - val_loss: 2.1231 - val_accuracy: 0.4432\n",
            "Epoch 100/100\n",
            "1563/1563 [==============================] - 15s 10ms/step - loss: 2.0235 - accuracy: 0.4495 - val_loss: 2.1086 - val_accuracy: 0.4465\n"
          ]
        }
      ]
    },
    {
      "cell_type": "code",
      "source": [
        "model.evaluate(x_train, y_train)"
      ],
      "metadata": {
        "id": "fEXq-_vlfrwW",
        "colab": {
          "base_uri": "https://localhost:8080/"
        },
        "outputId": "8e1cde3d-a964-4663-8c41-0b1425ff67d1"
      },
      "execution_count": 42,
      "outputs": [
        {
          "output_type": "stream",
          "name": "stdout",
          "text": [
            "1563/1563 [==============================] - 8s 5ms/step - loss: 1.5189 - accuracy: 0.5940\n"
          ]
        },
        {
          "output_type": "execute_result",
          "data": {
            "text/plain": [
              "[1.5189121961593628, 0.5939599871635437]"
            ]
          },
          "metadata": {},
          "execution_count": 42
        }
      ]
    },
    {
      "cell_type": "code",
      "source": [
        "model.evaluate(x_test, y_test)"
      ],
      "metadata": {
        "id": "gpEpWnKWv_1p",
        "colab": {
          "base_uri": "https://localhost:8080/"
        },
        "outputId": "4528f6d7-77f9-470b-e846-c9fcd260fa4c"
      },
      "execution_count": 43,
      "outputs": [
        {
          "output_type": "stream",
          "name": "stdout",
          "text": [
            "313/313 [==============================] - 2s 5ms/step - loss: 2.1086 - accuracy: 0.4465\n"
          ]
        },
        {
          "output_type": "execute_result",
          "data": {
            "text/plain": [
              "[2.108588457107544, 0.4465000033378601]"
            ]
          },
          "metadata": {},
          "execution_count": 43
        }
      ]
    },
    {
      "cell_type": "code",
      "source": [
        "model.save('cnn')"
      ],
      "metadata": {
        "id": "Rc0aQjRc903p"
      },
      "execution_count": null,
      "outputs": []
    },
    {
      "cell_type": "code",
      "source": [
        "plt.plot(history.history['loss'])\n",
        "plt.plot(history.history['val_loss'])\n",
        "plt.title('CNN model learning curve')\n",
        "plt.ylabel('loss')\n",
        "plt.xlabel('epoch')\n",
        "plt.legend(['train', 'val'])"
      ],
      "metadata": {
        "id": "0Ggq_EYl_2Zy",
        "colab": {
          "base_uri": "https://localhost:8080/",
          "height": 312
        },
        "outputId": "2f352dcd-f6f0-49b1-96e0-04148156c64b"
      },
      "execution_count": 44,
      "outputs": [
        {
          "output_type": "execute_result",
          "data": {
            "text/plain": [
              "<matplotlib.legend.Legend at 0x7fd2d309b390>"
            ]
          },
          "metadata": {},
          "execution_count": 44
        },
        {
          "output_type": "display_data",
          "data": {
            "text/plain": [
              "<Figure size 432x288 with 1 Axes>"
            ],
            "image/png": "[encoded data removed]"
          },
          "metadata": {
            "needs_background": "light"
          }
        }
      ]
    },
    {
      "cell_type": "code",
      "source": [
        "plt.plot(history.history['accuracy'])\n",
        "plt.plot(history.history['val_accuracy'])\n",
        "plt.title('CNN model learning curve')\n",
        "plt.ylabel('accuracy')\n",
        "plt.xlabel('epoch')\n",
        "plt.legend(['train', 'val'])"
      ],
      "metadata": {
        "id": "TX56p0CfNBhY",
        "colab": {
          "base_uri": "https://localhost:8080/",
          "height": 312
        },
        "outputId": "fd9daf4a-9430-4148-b3c1-f6388effc02a"
      },
      "execution_count": 45,
      "outputs": [
        {
          "output_type": "execute_result",
          "data": {
            "text/plain": [
              "<matplotlib.legend.Legend at 0x7fd2d3190fd0>"
            ]
          },
          "metadata": {},
          "execution_count": 45
        },
        {
          "output_type": "display_data",
          "data": {
            "text/plain": [
              "<Figure size 432x288 with 1 Axes>"
            ],
            "image/png": "[encoded data removed]"
          },
          "metadata": {
            "needs_background": "light"
          }
        }
      ]
    },
    {
      "cell_type": "code",
      "source": [
        "np.save('history.npy', history.history)\n",
        "h = np.load('history.npy', allow_pickle=True).item()\n",
        "plt.plot(h['loss'])\n",
        "plt.plot(h['val_loss'])"
      ],
      "metadata": {
        "id": "rc_mqrQQ8cIX"
      },
      "execution_count": null,
      "outputs": []
    }
  ],
  "metadata": {
    "colab": {
      "collapsed_sections": [],
      "name": "nn.ipynb",
      "provenance": [],
      "include_colab_link": true
    },
    "kernelspec": {
      "display_name": "Python 3.9.7 64-bit ('base': conda)",
      "language": "python",
      "name": "python397jvsc74a57bd0dea9281c6541cd6e6e8015e5fbd0dab6ecf2c70a713fb8c33a69c464c552ed3f"
    },
    "language_info": {
      "codemirror_mode": {
        "name": "ipython",
        "version": 3
      },
      "file_extension": ".py",
      "mimetype": "text/x-python",
      "name": "python",
      "nbconvert_exporter": "python",
      "pygments_lexer": "ipython3",
      "version": "3.9.7"
    },
    "accelerator": "GPU"
  },
  "nbformat": 4,
  "nbformat_minor": 0
}